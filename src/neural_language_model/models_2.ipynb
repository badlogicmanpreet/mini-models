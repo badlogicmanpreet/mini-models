{
 "cells": [
  {
   "cell_type": "code",
   "execution_count": null,
   "metadata": {},
   "outputs": [],
   "source": [
    "# TIME TO BUILD MLP - Paper"
   ]
  },
  {
   "cell_type": "code",
   "execution_count": 11,
   "metadata": {},
   "outputs": [
    {
     "name": "stderr",
     "output_type": "stream",
     "text": [
      "UsageError: Line magic function `%` not found.\n"
     ]
    }
   ],
   "source": [
    "import torch\n",
    "import torch.nn.functional as F\n",
    "import matplotlib.pyplot as plt\n",
    "% matplotlib inline"
   ]
  },
  {
   "cell_type": "code",
   "execution_count": 12,
   "metadata": {},
   "outputs": [
    {
     "data": {
      "text/plain": [
       "['emma', 'olivia', 'ava', 'isabella', 'sophia', 'charlotte', 'mia', 'amelia']"
      ]
     },
     "execution_count": 12,
     "metadata": {},
     "output_type": "execute_result"
    }
   ],
   "source": [
    "words = open('names.txt').read().splitlines()\n",
    "words[:8]"
   ]
  },
  {
   "cell_type": "code",
   "execution_count": 13,
   "metadata": {},
   "outputs": [
    {
     "data": {
      "text/plain": [
       "32033"
      ]
     },
     "execution_count": 13,
     "metadata": {},
     "output_type": "execute_result"
    }
   ],
   "source": [
    "len(words)"
   ]
  },
  {
   "cell_type": "code",
   "execution_count": 20,
   "metadata": {},
   "outputs": [],
   "source": [
    "# Create a dictionary that maps letters to integers and vice versa\n",
    "chars = sorted(list(set(''.join(words))))\n",
    "stoi = {ch : i+1 for i, ch in enumerate(chars)}\n",
    "stoi['.'] = 0\n",
    "itos = {i : ch for ch, i in stoi.items()}"
   ]
  },
  {
   "cell_type": "code",
   "execution_count": 79,
   "metadata": {},
   "outputs": [],
   "source": [
    "# build the dataset\n",
    "\n",
    "block_size = 3 # context length: how many characters do we take to predict the next one?\n",
    "X, Y = [], []\n",
    "\n",
    "for word in words:\n",
    "    # print(word)\n",
    "    context = [0] * block_size\n",
    "    for ch in word + '.':\n",
    "        ix = stoi[ch]\n",
    "        X.append(context)\n",
    "        Y.append(ix)\n",
    "        # print(''.join(itos[i] for i in context), '--->', itos[ix])\n",
    "        context = context[1:] + [ix]\n",
    "\n",
    "X = torch.tensor(X)\n",
    "Y = torch.tensor(Y)"
   ]
  },
  {
   "cell_type": "code",
   "execution_count": 24,
   "metadata": {},
   "outputs": [
    {
     "data": {
      "text/plain": [
       "tensor([ 5, 13, 13,  1,  0, 15, 12,  9, 22,  9,  1,  0,  1, 22,  1,  0,  9, 19,\n",
       "         1,  2,  5, 12, 12,  1,  0, 19, 15, 16,  8,  9,  1,  0])"
      ]
     },
     "execution_count": 24,
     "metadata": {},
     "output_type": "execute_result"
    }
   ],
   "source": [
    "X.shape, X.dtype, Y.shape, Y.dtype\n",
    "X\n",
    "Y"
   ]
  },
  {
   "cell_type": "code",
   "execution_count": 103,
   "metadata": {},
   "outputs": [
    {
     "name": "stdout",
     "output_type": "stream",
     "text": [
      "torch.Size([182580, 3]) torch.int64 torch.Size([182580]) torch.int64\n",
      "torch.Size([22767, 3]) torch.int64 torch.Size([22767]) torch.int64\n",
      "torch.Size([22799, 3]) torch.int64 torch.Size([22799]) torch.int64\n"
     ]
    }
   ],
   "source": [
    "# build the dataset\n",
    "\n",
    "def build_dataset(words):\n",
    "    block_size = 3 # context length: how many characters do we take to predict the next one?\n",
    "    X, Y = [], []\n",
    "\n",
    "    for word in words:\n",
    "        # print(word)\n",
    "        context = [0] * block_size\n",
    "        for ch in word + '.':\n",
    "            ix = stoi[ch]\n",
    "            X.append(context)\n",
    "            Y.append(ix)\n",
    "            # print(''.join(itos[i] for i in context), '--->', itos[ix])\n",
    "            context = context[1:] + [ix]\n",
    "\n",
    "    X = torch.tensor(X)\n",
    "    Y = torch.tensor(Y)\n",
    "    print(X.shape, X.dtype, Y.shape, Y.dtype)\n",
    "    return X, Y\n",
    "\n",
    "import random\n",
    "random.seed(42)\n",
    "random.shuffle(words)\n",
    "n1 = int(len(words) * 0.8) # 80% of the words\n",
    "n2 = int(len(words) * 0.9) # 90% of the words\n",
    "\n",
    "Xtr, Ytr = build_dataset(words[:n1]) # training set -> upto n1\n",
    "Xdev, Ydev = build_dataset(words[n1:n2]) # development set -> (n2 - n1)\n",
    "Xte, Yte = build_dataset(words[n2:]) # test set -> (n - n2)"
   ]
  },
  {
   "cell_type": "code",
   "execution_count": 30,
   "metadata": {},
   "outputs": [
    {
     "name": "stdout",
     "output_type": "stream",
     "text": [
      "tensor([ 0.6198, -2.3652])\n"
     ]
    },
    {
     "data": {
      "text/plain": [
       "tensor([[ 0.6198, -2.3652],\n",
       "        [-0.0595, -0.6902],\n",
       "        [ 0.0917,  0.0919]])"
      ]
     },
     "execution_count": 30,
     "metadata": {},
     "output_type": "execute_result"
    }
   ],
   "source": [
    "# lets us build the embedding table C\n",
    "C = torch.randn((27, 2)) # 27 characters, 2 dimensions - each character is represented by a vector of size 2\n",
    "C\n",
    "print(C[5])\n",
    "\n",
    "onehot = F.one_hot(torch.tensor(5), num_classes=27).float() # one hot encoding of the 5th character\n",
    "onehot @ C\n",
    "\n",
    "C[[5, 6, 7]] # embedding of the 5th, 6th and 7th character"
   ]
  },
  {
   "cell_type": "code",
   "execution_count": null,
   "metadata": {},
   "outputs": [],
   "source": [
    "# the way to think here is that the input X can be made one hot, which is then send to first neural network layer,\n",
    "# in this layer the W are kind of represented by C, no non linearlity is needed here."
   ]
  },
  {
   "cell_type": "code",
   "execution_count": 33,
   "metadata": {},
   "outputs": [
    {
     "data": {
      "text/plain": [
       "torch.Size([32, 3, 2])"
      ]
     },
     "execution_count": 33,
     "metadata": {},
     "output_type": "execute_result"
    }
   ],
   "source": [
    "emb = C[X] # embedding of the input X\n",
    "emb.shape"
   ]
  },
  {
   "cell_type": "code",
   "execution_count": null,
   "metadata": {},
   "outputs": [],
   "source": [
    "# no. of inputs that go the next layer is 3 * 2 = 6, where 3 is the context length and 2 is the embedding size"
   ]
  },
  {
   "cell_type": "code",
   "execution_count": 34,
   "metadata": {},
   "outputs": [],
   "source": [
    "W1 = torch.randn((6, 100)) # 6 weights because no. of inputs coming to each neuron is 6, 100 neurons\n",
    "b1 = torch.randn((100)) # 100 biases"
   ]
  },
  {
   "cell_type": "code",
   "execution_count": 35,
   "metadata": {},
   "outputs": [
    {
     "ename": "RuntimeError",
     "evalue": "mat1 and mat2 shapes cannot be multiplied (96x2 and 6x100)",
     "output_type": "error",
     "traceback": [
      "\u001b[0;31m---------------------------------------------------------------------------\u001b[0m",
      "\u001b[0;31mRuntimeError\u001b[0m                              Traceback (most recent call last)",
      "Cell \u001b[0;32mIn[35], line 1\u001b[0m\n\u001b[0;32m----> 1\u001b[0m \u001b[43memb\u001b[49m\u001b[43m \u001b[49m\u001b[38;5;241;43m@\u001b[39;49m\u001b[43m \u001b[49m\u001b[43mW1\u001b[49m \u001b[38;5;241m+\u001b[39m b1 \u001b[38;5;66;03m# output of the first layer\u001b[39;00m\n",
      "\u001b[0;31mRuntimeError\u001b[0m: mat1 and mat2 shapes cannot be multiplied (96x2 and 6x100)"
     ]
    }
   ],
   "source": [
    "emb @ W1 + b1 # output of the first layer\n",
    "# RuntimeError: mat1 and mat2 shapes cannot be multiplied"
   ]
  },
  {
   "cell_type": "code",
   "execution_count": 42,
   "metadata": {},
   "outputs": [
    {
     "data": {
      "text/plain": [
       "torch.Size([32, 6])"
      ]
     },
     "execution_count": 42,
     "metadata": {},
     "output_type": "execute_result"
    }
   ],
   "source": [
    "# to fix this we need to flatten the input, we will be using torch cat for this\n",
    "emb[:, 0, :].shape\n",
    "\n",
    "torch.cat([emb[:, 0, :], emb[:, 1, :], emb[:, 2, :]], dim=1).shape # flattened input for 0, 1, 2 context length\n",
    "\n",
    "#  above the problem is we will have to keep changing it for context length, instead lets use bind\n",
    "torch.cat(torch.unbind(emb, dim=1), dim=1).shape"
   ]
  },
  {
   "cell_type": "code",
   "execution_count": 46,
   "metadata": {},
   "outputs": [
    {
     "data": {
      "text/plain": [
       "tensor([[ 0,  1,  2,  3,  4,  5],\n",
       "        [ 6,  7,  8,  9, 10, 11],\n",
       "        [12, 13, 14, 15, 16, 17]])"
      ]
     },
     "execution_count": 46,
     "metadata": {},
     "output_type": "execute_result"
    }
   ],
   "source": [
    "# visiting some internals of tensor - ezyang.com\n",
    "a = torch.arange(18)\n",
    "a.storage() # storage is a contiguous array of memory\n",
    "a.view(3, 6)"
   ]
  },
  {
   "cell_type": "code",
   "execution_count": 47,
   "metadata": {},
   "outputs": [
    {
     "data": {
      "text/plain": [
       "tensor([[ 0.4054,  0.5231,  0.4054,  0.5231,  0.4054,  0.5231],\n",
       "        [ 0.4054,  0.5231,  0.4054,  0.5231,  0.6198, -2.3652],\n",
       "        [ 0.4054,  0.5231,  0.6198, -2.3652,  1.2566,  0.9025],\n",
       "        [ 0.6198, -2.3652,  1.2566,  0.9025,  1.2566,  0.9025],\n",
       "        [ 1.2566,  0.9025,  1.2566,  0.9025,  1.2383, -1.0258],\n",
       "        [ 0.4054,  0.5231,  0.4054,  0.5231,  0.4054,  0.5231],\n",
       "        [ 0.4054,  0.5231,  0.4054,  0.5231,  0.6727, -0.1687],\n",
       "        [ 0.4054,  0.5231,  0.6727, -0.1687,  0.3961, -0.6870],\n",
       "        [ 0.6727, -0.1687,  0.3961, -0.6870, -0.8470,  0.0491],\n",
       "        [ 0.3961, -0.6870, -0.8470,  0.0491,  1.0220, -0.2910],\n",
       "        [-0.8470,  0.0491,  1.0220, -0.2910, -0.8470,  0.0491],\n",
       "        [ 1.0220, -0.2910, -0.8470,  0.0491,  1.2383, -1.0258],\n",
       "        [ 0.4054,  0.5231,  0.4054,  0.5231,  0.4054,  0.5231],\n",
       "        [ 0.4054,  0.5231,  0.4054,  0.5231,  1.2383, -1.0258],\n",
       "        [ 0.4054,  0.5231,  1.2383, -1.0258,  1.0220, -0.2910],\n",
       "        [ 1.2383, -1.0258,  1.0220, -0.2910,  1.2383, -1.0258],\n",
       "        [ 0.4054,  0.5231,  0.4054,  0.5231,  0.4054,  0.5231],\n",
       "        [ 0.4054,  0.5231,  0.4054,  0.5231, -0.8470,  0.0491],\n",
       "        [ 0.4054,  0.5231, -0.8470,  0.0491, -1.0227, -0.3180],\n",
       "        [-0.8470,  0.0491, -1.0227, -0.3180,  1.2383, -1.0258],\n",
       "        [-1.0227, -0.3180,  1.2383, -1.0258, -0.3450,  0.7488],\n",
       "        [ 1.2383, -1.0258, -0.3450,  0.7488,  0.6198, -2.3652],\n",
       "        [-0.3450,  0.7488,  0.6198, -2.3652,  0.3961, -0.6870],\n",
       "        [ 0.6198, -2.3652,  0.3961, -0.6870,  0.3961, -0.6870],\n",
       "        [ 0.3961, -0.6870,  0.3961, -0.6870,  1.2383, -1.0258],\n",
       "        [ 0.4054,  0.5231,  0.4054,  0.5231,  0.4054,  0.5231],\n",
       "        [ 0.4054,  0.5231,  0.4054,  0.5231, -1.0227, -0.3180],\n",
       "        [ 0.4054,  0.5231, -1.0227, -0.3180,  0.6727, -0.1687],\n",
       "        [-1.0227, -0.3180,  0.6727, -0.1687, -2.2761,  1.6411],\n",
       "        [ 0.6727, -0.1687, -2.2761,  1.6411, -0.9465,  0.1314],\n",
       "        [-2.2761,  1.6411, -0.9465,  0.1314, -0.8470,  0.0491],\n",
       "        [-0.9465,  0.1314, -0.8470,  0.0491,  1.2383, -1.0258]])"
      ]
     },
     "execution_count": 47,
     "metadata": {},
     "output_type": "execute_result"
    }
   ],
   "source": [
    "# if we use view on the embeddings we dont need to concatenate and bind\n",
    "emb.view(32, 6)"
   ]
  },
  {
   "cell_type": "code",
   "execution_count": 53,
   "metadata": {},
   "outputs": [
    {
     "data": {
      "text/plain": [
       "torch.Size([32, 100])"
      ]
     },
     "execution_count": 53,
     "metadata": {},
     "output_type": "execute_result"
    }
   ],
   "source": [
    "# h = emb.view(32, 6) @ W1 + b1 # output of the first layer\n",
    "# h = emb.view(emb.shape[0], 6) @ W1 + b1 # output of the first layer\n",
    "h = torch.tanh(emb.view(-1, 6) @ W1 + b1) # output of the first layer, broadcasting is happening here, 32, 100 and 1, 100\n",
    "h.shape\n",
    "\n",
    "# this is giving us 32 examples, 100 neurons each"
   ]
  },
  {
   "cell_type": "code",
   "execution_count": 55,
   "metadata": {},
   "outputs": [],
   "source": [
    "# lets create the second layer\n",
    "W2 = torch.randn((100, 27)) # 100 neurons, 27 classes\n",
    "b2 = torch.randn((27)) # 27 biases"
   ]
  },
  {
   "cell_type": "code",
   "execution_count": 56,
   "metadata": {},
   "outputs": [
    {
     "data": {
      "text/plain": [
       "torch.Size([32, 27])"
      ]
     },
     "execution_count": 56,
     "metadata": {},
     "output_type": "execute_result"
    }
   ],
   "source": [
    "logits = h @ W2 + b2 # output of the second layer\n",
    "logits.shape"
   ]
  },
  {
   "cell_type": "code",
   "execution_count": 57,
   "metadata": {},
   "outputs": [],
   "source": [
    "# lets do softmax\n",
    "counts = torch.exp(logits)\n",
    "prob = counts / counts.sum(dim=1, keepdim=True)"
   ]
  },
  {
   "cell_type": "code",
   "execution_count": 58,
   "metadata": {},
   "outputs": [
    {
     "data": {
      "text/plain": [
       "torch.Size([32, 27])"
      ]
     },
     "execution_count": 58,
     "metadata": {},
     "output_type": "execute_result"
    }
   ],
   "source": [
    "prob.shape"
   ]
  },
  {
   "cell_type": "code",
   "execution_count": 61,
   "metadata": {},
   "outputs": [
    {
     "data": {
      "text/plain": [
       "tensor([1.6315e-04, 5.3087e-10, 1.6051e-03, 3.8081e-09, 2.1226e-03, 3.5438e-05,\n",
       "        4.4443e-08, 1.7366e-05, 5.7399e-04, 5.0090e-06, 1.9840e-09, 1.3518e-03,\n",
       "        4.4281e-15, 1.9657e-03, 9.7114e-10, 1.0468e-06, 1.7066e-13, 1.4827e-03,\n",
       "        4.1694e-12, 5.6969e-06, 1.3101e-05, 7.9173e-10, 2.2141e-01, 4.5709e-03,\n",
       "        2.1836e-06, 3.4018e-04, 3.2049e-08, 6.1464e-08, 4.6455e-10, 1.2485e-08,\n",
       "        8.9204e-11, 6.5668e-04])"
      ]
     },
     "execution_count": 61,
     "metadata": {},
     "output_type": "execute_result"
    }
   ],
   "source": [
    "# lets start plucking out the probabilities for the correct classes\n",
    "# torch.arange(32)\n",
    "prob[torch.arange(32), Y]"
   ]
  },
  {
   "cell_type": "code",
   "execution_count": 59,
   "metadata": {},
   "outputs": [
    {
     "data": {
      "text/plain": [
       "tensor([ 5, 13, 13,  1,  0, 15, 12,  9, 22,  9,  1,  0,  1, 22,  1,  0,  9, 19,\n",
       "         1,  2,  5, 12, 12,  1,  0, 19, 15, 16,  8,  9,  1,  0])"
      ]
     },
     "execution_count": 59,
     "metadata": {},
     "output_type": "execute_result"
    }
   ],
   "source": [
    "Y"
   ]
  },
  {
   "cell_type": "code",
   "execution_count": 64,
   "metadata": {},
   "outputs": [
    {
     "data": {
      "text/plain": [
       "tensor(14.3323)"
      ]
     },
     "execution_count": 64,
     "metadata": {},
     "output_type": "execute_result"
    }
   ],
   "source": [
    "# based on the above we can calculate the loss\n",
    "loss = -prob[torch.arange(32), Y].log().mean()\n",
    "loss"
   ]
  },
  {
   "cell_type": "markdown",
   "metadata": {},
   "source": [
    "Simplification of Multiplication into Addition: Likelihood functions often involve the product of probabilities. When dealing with small probabilities, these products can become very small, leading to computational difficulties. Taking the logarithm of these probabilities converts the products into sums, which are easier to handle both computationally and analytically.\n",
    "\n",
    "Numerical Stability: The logarithm function transforms very small numbers into larger, more manageable numbers. This helps in avoiding issues with numerical underflow, a common problem when computing products of many probabilities in computers."
   ]
  },
  {
   "cell_type": "code",
   "execution_count": 65,
   "metadata": {},
   "outputs": [],
   "source": [
    "# ----------------------------- lets do it all in good way -----------------------------"
   ]
  },
  {
   "cell_type": "code",
   "execution_count": 177,
   "metadata": {},
   "outputs": [
    {
     "data": {
      "text/plain": [
       "(torch.Size([182580, 3]), torch.Size([182580]))"
      ]
     },
     "execution_count": 177,
     "metadata": {},
     "output_type": "execute_result"
    }
   ],
   "source": [
    "Xtr.shape, Ytr.shape # X is the input, Y is the target"
   ]
  },
  {
   "cell_type": "code",
   "execution_count": 178,
   "metadata": {},
   "outputs": [],
   "source": [
    "g = torch.Generator().manual_seed(2147483647) # random seed\n",
    "#C = torch.randn((27, 2), generator=g) # embedding table\n",
    "#W1 = torch.randn((6, 300), generator=g) # first layer weights\n",
    "C = torch.randn((27, 10), generator=g) # embedding table, increased the embedding size to 10\n",
    "W1 = torch.randn((30, 200), generator=g) # first layer weights, increased the input size to 30 (10 * 3)\n",
    "b1 = torch.randn((200), generator=g) # first layer biases\n",
    "W2 = torch.randn((200, 27), generator=g) # second layer weights\n",
    "b2 = torch.randn((27), generator=g) # second layer biases\n",
    "parameters = [C, W1, b1, W2, b2]"
   ]
  },
  {
   "cell_type": "code",
   "execution_count": 179,
   "metadata": {},
   "outputs": [
    {
     "data": {
      "text/plain": [
       "11897"
      ]
     },
     "execution_count": 179,
     "metadata": {},
     "output_type": "execute_result"
    }
   ],
   "source": [
    "sum(p.nelement() for p in parameters) # total no. of parameters"
   ]
  },
  {
   "cell_type": "code",
   "execution_count": 180,
   "metadata": {},
   "outputs": [],
   "source": [
    "for p in parameters:\n",
    "    p.requires_grad = True"
   ]
  },
  {
   "cell_type": "code",
   "execution_count": 181,
   "metadata": {},
   "outputs": [],
   "source": [
    "# lets calculate a good learning rate\n",
    "# learning rate exponent, between [.001, 1]\n",
    "lre = torch.linspace(-3, 0, 1000) # -3 because .001 is 10^-3, 0 because 1 is 10^0\n",
    "lrs = 10 ** lre"
   ]
  },
  {
   "cell_type": "code",
   "execution_count": 182,
   "metadata": {},
   "outputs": [],
   "source": [
    "lri = []\n",
    "lossi = []\n",
    "stepi = []"
   ]
  },
  {
   "cell_type": "code",
   "execution_count": 183,
   "metadata": {},
   "outputs": [],
   "source": [
    "for i in range(200000):\n",
    "    # lets create a mini batch, select few indexes in 228000 examples\n",
    "    ix = torch.randint(0, Xtr.shape[0], (32,))\n",
    "\n",
    "    # forward pass\n",
    "    emb = C[Xtr[ix]] # embedding of the input X\n",
    "    #h = torch.tanh(emb.view(-1, 6) @ W1 + b1) # output of the first layer\n",
    "    h = torch.tanh(emb.view(-1, 30) @ W1 + b1) # output of the first layer, increased the input size to 30 (10 * 3)\n",
    "    logits = h @ W2 + b2 # output of the second layer (32, 27)\n",
    "    # counts = logits.exp()\n",
    "    # prob = counts / counts.sum(dim=1, keepdim=True) # softmax\n",
    "    # loss = -prob[torch.arange(32), Y].log().mean() # negative log likelihood\n",
    "\n",
    "    loss = F.cross_entropy(logits, Ytr[ix]) # cross entropy, pytorch does this very efficiently (fused kernel), very easy to backpropagate\n",
    "\n",
    "    # backward pass\n",
    "    for p in parameters:\n",
    "        p.grad = None # zero out all the gradients\n",
    "    loss.backward() # backpropagate\n",
    "\n",
    "    # change the parameters\n",
    "#    lr = lrs[i]\n",
    "    lr = 0.1 if i < 100000 else 0.01 # at some point we should start decaying the learning rate\n",
    "    for p in parameters:\n",
    "        p.data += -lr * p.grad # gradient descent\n",
    "\n",
    "    # track the loss and learning rate\n",
    "#    lri.append(lr)\n",
    "    stepi.append(i)\n",
    "    lossi.append(loss.log10().item()) # log10 of the loss, because when you plot the loss it appears as a hockey stick, we squash it using log10"
   ]
  },
  {
   "cell_type": "code",
   "execution_count": 184,
   "metadata": {},
   "outputs": [
    {
     "data": {
      "text/plain": [
       "[<matplotlib.lines.Line2D at 0x151375b10>]"
      ]
     },
     "execution_count": 184,
     "metadata": {},
     "output_type": "execute_result"
    },
    {
     "data": {
      "image/png": "[encoded data removed]",
      "text/plain": [
       "<Figure size 640x480 with 1 Axes>"
      ]
     },
     "metadata": {},
     "output_type": "display_data"
    }
   ],
   "source": [
    "plt.plot(stepi, lossi)"
   ]
  },
  {
   "cell_type": "code",
   "execution_count": 128,
   "metadata": {},
   "outputs": [
    {
     "data": {
      "text/plain": [
       "[<matplotlib.lines.Line2D at 0x150c8e8c0>]"
      ]
     },
     "execution_count": 128,
     "metadata": {},
     "output_type": "execute_result"
    },
    {
     "data": {
      "image/png": "[encoded data removed]",
      "text/plain": [
       "<Figure size 640x480 with 1 Axes>"
      ]
     },
     "metadata": {},
     "output_type": "display_data"
    }
   ],
   "source": [
    "plt.plot(stepi, lossi)"
   ]
  },
  {
   "cell_type": "code",
   "execution_count": 185,
   "metadata": {},
   "outputs": [
    {
     "data": {
      "text/plain": [
       "tensor(2.1329, grad_fn=<NllLossBackward0>)"
      ]
     },
     "execution_count": 185,
     "metadata": {},
     "output_type": "execute_result"
    }
   ],
   "source": [
    "# evaluate on the training set\n",
    "emb = C[Xtr] # embedding of the input X\n",
    "h = torch.tanh(emb.view(-1, 30) @ W1 + b1) # output of the first layer\n",
    "logits = h @ W2 + b2 # output of the second layer (32, 27)\n",
    "loss = F.cross_entropy(logits, Ytr) \n",
    "loss"
   ]
  },
  {
   "cell_type": "code",
   "execution_count": 186,
   "metadata": {},
   "outputs": [
    {
     "data": {
      "text/plain": [
       "tensor(2.1734, grad_fn=<NllLossBackward0>)"
      ]
     },
     "execution_count": 186,
     "metadata": {},
     "output_type": "execute_result"
    }
   ],
   "source": [
    "# evaluate on the dev set\n",
    "emb = C[Xdev] # embedding of the input X\n",
    "h = torch.tanh(emb.view(-1, 30) @ W1 + b1) # output of the first layer\n",
    "logits = h @ W2 + b2 # output of the second layer (32, 27)\n",
    "loss = F.cross_entropy(logits, Ydev)\n",
    "loss"
   ]
  },
  {
   "cell_type": "code",
   "execution_count": 189,
   "metadata": {},
   "outputs": [
    {
     "name": "stdout",
     "output_type": "stream",
     "text": [
      "carpavela.\n",
      "jhq.\n",
      "khi.\n",
      "mili.\n",
      "taty.\n",
      "skansh.\n",
      "emmahnen.\n",
      "delynn.\n",
      "jareei.\n",
      "nellara.\n"
     ]
    }
   ],
   "source": [
    "# sample from the model\n",
    "g = torch.Generator().manual_seed(2147483647 + 10) # random seed\n",
    "\n",
    "for _ in range(10):\n",
    "    out = []\n",
    "    context = [0] * block_size # start with the context of length 3\n",
    "    while True:\n",
    "        emb = C[torch.tensor(context)] # embedding of the input X (1, block_size, 2)\n",
    "        h = torch.tanh(emb.view(1, -1) @ W1 + b1)\n",
    "        logits = h @ W2 + b2 # output of the second layer (1, 27)\n",
    "        probs = F.softmax(logits, dim=1)\n",
    "        ix = torch.multinomial(probs, num_samples=1, generator=g).item() # sample from the distribution\n",
    "        context = context[1:] + [ix]\n",
    "        out.append(ix)\n",
    "        if ix == 0:\n",
    "            break\n",
    "        \n",
    "    print(''.join(itos[i] for i in out))"
   ]
  },
  {
   "cell_type": "code",
   "execution_count": 187,
   "metadata": {},
   "outputs": [
    {
     "data": {
      "image/png": "[encoded data removed]",
      "text/plain": [
       "<Figure size 800x800 with 1 Axes>"
      ]
     },
     "metadata": {},
     "output_type": "display_data"
    }
   ],
   "source": [
    "# bottleneck is the embedding layer, we can increase the size of the embedding layer, lets increase it to 30 from 2\n",
    "# lets visualize the embeddings\n",
    "plt.figure(figsize=(8, 8))\n",
    "plt.scatter(C[:, 0].data, C[:, 1].data, s=100)\n",
    "for i in range(C.shape[0]):\n",
    "    plt.text(C[i, 0].item(), C[i, 1].item(), itos[i], ha='center', va='center', color='white')\n",
    "plt.grid('minor')"
   ]
  },
  {
   "cell_type": "code",
   "execution_count": null,
   "metadata": {},
   "outputs": [],
   "source": [
    "# we are underfitting since the loss of training and validation is almost same, lets increase the capacity of the model"
   ]
  },
  {
   "cell_type": "code",
   "execution_count": 95,
   "metadata": {},
   "outputs": [
    {
     "data": {
      "text/plain": [
       "[<matplotlib.lines.Line2D at 0x144257850>]"
      ]
     },
     "execution_count": 95,
     "metadata": {},
     "output_type": "execute_result"
    },
    {
     "data": {
      "image/png": "[encoded data removed]",
      "text/plain": [
       "<Figure size 640x480 with 1 Axes>"
      ]
     },
     "metadata": {},
     "output_type": "display_data"
    }
   ],
   "source": [
    "plt.plot(lri, lossi)"
   ]
  },
  {
   "cell_type": "code",
   "execution_count": 88,
   "metadata": {},
   "outputs": [
    {
     "data": {
      "text/plain": [
       "tensor([116370,  21855, 207604,  13108, 146426, 206282,  93462, 101197,   5588,\n",
       "         90166, 207574,  14253,  84419,  96395,  82889, 109448, 188387, 188440,\n",
       "        178933,  39238,  66279, 159359, 225262, 219808,   8446,  71524,  62762,\n",
       "         46633,  10546,  15220, 201046, 226620])"
      ]
     },
     "execution_count": 88,
     "metadata": {},
     "output_type": "execute_result"
    }
   ],
   "source": [
    "# we should optimize the above by using mini batches\n",
    "torch.randint(0, X.shape[0], (32,))"
   ]
  },
  {
   "cell_type": "code",
   "execution_count": 78,
   "metadata": {},
   "outputs": [
    {
     "name": "stdout",
     "output_type": "stream",
     "text": [
      "torch.return_types.max(\n",
      "values=tensor([13.4138, 17.9644, 20.6772, 20.7267, 16.8571, 13.4138, 16.1147, 14.2718,\n",
      "        16.0140, 18.5009, 16.0738, 21.0530, 13.4138, 17.2577, 17.2659, 20.2016,\n",
      "        13.4138, 16.7053, 15.2578, 17.2021, 18.6942, 16.1057, 10.9961, 10.7943,\n",
      "        15.5882, 13.4138, 16.2897, 17.0882, 12.8241, 16.2913, 19.2259, 16.1885],\n",
      "       grad_fn=<MaxBackward0>),\n",
      "indices=tensor([19, 13, 13,  1,  0, 19, 12,  9, 22,  9,  1,  0, 19, 22,  1,  0, 19, 19,\n",
      "         1,  2,  5, 12, 12,  1,  0, 19, 15, 16,  8,  9,  1,  0]))\n",
      "tensor([ 5, 13, 13,  1,  0, 15, 12,  9, 22,  9,  1,  0,  1, 22,  1,  0,  9, 19,\n",
      "         1,  2,  5, 12, 12,  1,  0, 19, 15, 16,  8,  9,  1,  0])\n"
     ]
    }
   ],
   "source": [
    "print(logits.max(dim=1)) # predictions\n",
    "print(Y)               # targets"
   ]
  },
  {
   "cell_type": "code",
   "execution_count": 72,
   "metadata": {},
   "outputs": [
    {
     "data": {
      "text/plain": [
       "tensor([0., 0., 0., nan])"
      ]
     },
     "execution_count": 72,
     "metadata": {},
     "output_type": "execute_result"
    }
   ],
   "source": [
    "# following is why softmax and loss calaculation should not be done by us, because of numerical stability\n",
    "logits = torch.tensor([-100, -3, 0, 100]) - 100 # internally pytorch will substract the max value from all logits, this is the way to handle large nums\n",
    "counts = logits.exp()\n",
    "prob = counts / counts.sum()\n",
    "prob"
   ]
  },
  {
   "cell_type": "code",
   "execution_count": null,
   "metadata": {},
   "outputs": [],
   "source": [
    "# training set, dev/validation set, test set\n",
    "# train on training set, train hyperparameters on dev set, test on test set\n",
    "# 80% train, 10% dev, 10% test"
   ]
  }
 ],
 "metadata": {
  "kernelspec": {
   "display_name": "py310",
   "language": "python",
   "name": "python3"
  },
  "language_info": {
   "codemirror_mode": {
    "name": "ipython",
    "version": 3
   },
   "file_extension": ".py",
   "mimetype": "text/x-python",
   "name": "python",
   "nbconvert_exporter": "python",
   "pygments_lexer": "ipython3",
   "version": "3.10.11"
  }
 },
 "nbformat": 4,
 "nbformat_minor": 2
}
