{
 "cells": [
  {
   "cell_type": "code",
   "execution_count": 1,
   "metadata": {},
   "outputs": [
    {
     "name": "stderr",
     "output_type": "stream",
     "text": [
      "UsageError: Line magic function `%` not found.\n"
     ]
    }
   ],
   "source": [
    "import torch\n",
    "import torch.nn.functional as F\n",
    "import matplotlib.pyplot as plt\n",
    "% matplotlib inline"
   ]
  },
  {
   "cell_type": "code",
   "execution_count": 2,
   "metadata": {},
   "outputs": [
    {
     "data": {
      "text/plain": [
       "['emma', 'olivia', 'ava', 'isabella', 'sophia', 'charlotte', 'mia', 'amelia']"
      ]
     },
     "execution_count": 2,
     "metadata": {},
     "output_type": "execute_result"
    }
   ],
   "source": [
    "words = open('names.txt', 'r').read().splitlines()\n",
    "words[:8]"
   ]
  },
  {
   "cell_type": "code",
   "execution_count": 3,
   "metadata": {},
   "outputs": [
    {
     "data": {
      "text/plain": [
       "32033"
      ]
     },
     "execution_count": 3,
     "metadata": {},
     "output_type": "execute_result"
    }
   ],
   "source": [
    "len(words)"
   ]
  },
  {
   "cell_type": "code",
   "execution_count": 4,
   "metadata": {},
   "outputs": [
    {
     "name": "stdout",
     "output_type": "stream",
     "text": [
      "{0: '.', 1: 'b', 2: 'c', 3: 'd', 4: 'e', 5: 'f', 6: 'g', 7: 'h', 8: 'i', 9: 'j', 10: 'k', 11: 'l', 12: 'm', 13: 'n', 14: 'o', 15: 'p', 16: 'q', 17: 'r', 18: 's', 19: 't', 20: 'u', 21: 'v', 22: 'w', 23: 'x', 24: 'y', 25: 'z'}\n",
      "Vocab size: 27\n"
     ]
    }
   ],
   "source": [
    "chars = sorted(list(set(''.join(words))))\n",
    "stoi = {ch: i for i, ch in enumerate(chars)}\n",
    "stoi['.'] = 0\n",
    "itos = {i: ch for ch, i in stoi.items()}\n",
    "vocab_size = len(stoi)\n",
    "print(itos)\n",
    "print('Vocab size:', vocab_size)"
   ]
  },
  {
   "cell_type": "code",
   "execution_count": 6,
   "metadata": {},
   "outputs": [
    {
     "name": "stdout",
     "output_type": "stream",
     "text": [
      "Training set: torch.Size([182580, 3]) torch.Size([182580])\n",
      "Validation set: torch.Size([22767, 3]) torch.Size([22767])\n",
      "Test set: torch.Size([22799, 3]) torch.Size([22799])\n"
     ]
    }
   ],
   "source": [
    "# building the dataset\n",
    "block_size = 3  # context size: how many characters we consider to predict the next character\n",
    "\n",
    "def build_dataset(words):\n",
    "    X, Y = [], []\n",
    "\n",
    "    for w in words:\n",
    "        context = [0] * block_size\n",
    "        for ch in w + '.':\n",
    "            ix = stoi[ch]\n",
    "            X.append(context)\n",
    "            Y.append(ix)\n",
    "            context = context[1:] + [ix] # update context with the next character\n",
    "\n",
    "    X = torch.tensor(X)\n",
    "    Y = torch.tensor(Y)\n",
    "    return X, Y\n",
    "\n",
    "import random\n",
    "random.seed(42)\n",
    "random.shuffle(words)\n",
    "n1 = int(len(words) * 0.8)\n",
    "n2 = int(len(words) * 0.9)\n",
    "\n",
    "Xtr, Ytr = build_dataset(words[:n1]) # training set\n",
    "Xdev, Ydev = build_dataset(words[n1:n2]) # validation set\n",
    "Xte, Yte = build_dataset(words[n2:]) # test set\n",
    "            \n",
    "print('Training set:', Xtr.shape, Ytr.shape)\n",
    "print('Validation set:', Xdev.shape, Ydev.shape)\n",
    "print('Test set:', Xte.shape, Yte.shape)"
   ]
  },
  {
   "cell_type": "code",
   "execution_count": 7,
   "metadata": {},
   "outputs": [
    {
     "name": "stdout",
     "output_type": "stream",
     "text": [
      "Number of parameters: 11897\n"
     ]
    }
   ],
   "source": [
    "# MLP model\n",
    "\n",
    "\"\"\"\n",
    "This code defines an MLP (Multi-Layer Perceptron) model with the following components:\n",
    "- n_emb: The size of the embedding layer.\n",
    "- n_hidden: The size of the hidden layer.\n",
    "- g: A torch.Generator object used for reproducibility.\n",
    "- C: The embedding matrix with shape (vocab_size, n_emb).\n",
    "- W1: The weight matrix for the first layer with shape (n_emb * block_size, n_hidden).\n",
    "- b1: The bias vector for the first layer with shape (n_hidden).\n",
    "- W2: The weight matrix for the second layer with shape (n_hidden, vocab_size).\n",
    "- b2: The bias vector for the second layer with shape (vocab_size).\n",
    "- parameters: A list containing all the model parameters.\n",
    "- numel: The total number of elements in a tensor.\n",
    "\n",
    "The code also sets the requires_grad attribute of all the parameters to True.\n",
    "\"\"\"\n",
    "\n",
    "n_emb = 10 # embedding size\n",
    "n_hidden = 200 # hidden layer size\n",
    "\n",
    "g = torch.Generator().manual_seed(42) # for reproducibility\n",
    "C = torch.randn((vocab_size, n_emb), generator=g) # embedding matrix\n",
    "W1 = torch.randn((n_emb * block_size, n_hidden), generator=g) * (5/3) / ((n_emb * block_size) ** 0.5) # 0.2 # first layer initialized with small values, scaled down\n",
    "b1 = torch.randn((n_hidden), generator=g) * 0.01 # bias for the first layer\n",
    "W2 = torch.randn((n_hidden, vocab_size), generator=g) * 0.01 # second layer, initialized with small values, scaled down\n",
    "b2 = torch.randn((vocab_size), generator=g) * 0 # bias for the second layer, initialized to zero at the beginning\n",
    "\n",
    "parameters = [C, W1, b1, W2, b2]\n",
    "print('Number of parameters:', sum(p.numel() for p in parameters))\n",
    "\n",
    "for p in parameters:\n",
    "    p.requires_grad = True\n"
   ]
  },
  {
   "cell_type": "code",
   "execution_count": 19,
   "metadata": {},
   "outputs": [
    {
     "data": {
      "text/plain": [
       "0.3042903097250923"
      ]
     },
     "execution_count": 19,
     "metadata": {},
     "output_type": "execute_result"
    }
   ],
   "source": [
    "torch.randn(1000).std()\n",
    "# for the above guassian distribution, the standard deviation is 1. Spread of the distribution is 1.\n",
    "\n",
    "(torch.randn(1000) * 0.2).std() # observe that multiplying by 0.2 reduces the spread of the distribution to 0.2, this is where we need to use kaiming initialization = gain/squareroot\n",
    "\n",
    "# Kaiming initialization\n",
    "# (5/3) / (n_emb * block_size) ** 0.5\n",
    "(5/3) / (10 * 3) ** 0.5"
   ]
  },
  {
   "cell_type": "code",
   "execution_count": 14,
   "metadata": {},
   "outputs": [
    {
     "name": "stdout",
     "output_type": "stream",
     "text": [
      "tensor(-0.0042) tensor(1.0035)\n",
      "tensor(-0.0077) tensor(3.1355)\n"
     ]
    },
    {
     "data": {
      "text/plain": [
       "(array([6.62708744e-06, 0.00000000e+00, 1.32541749e-05, 0.00000000e+00,\n",
       "        6.62708744e-06, 1.98812623e-05, 3.97625246e-05, 6.62708744e-05,\n",
       "        8.61521367e-05, 1.78931361e-04, 3.84371072e-04, 7.09098356e-04,\n",
       "        1.04707982e-03, 1.57724681e-03, 3.18762906e-03, 5.01670519e-03,\n",
       "        8.00552163e-03, 1.25649578e-02, 1.95764163e-02, 3.01333666e-02,\n",
       "        4.28308661e-02, 5.97630745e-02, 7.86502738e-02, 9.98171910e-02,\n",
       "        1.21547411e-01, 1.33151441e-01, 1.37200591e-01, 1.30222268e-01,\n",
       "        1.11726067e-01, 9.30045452e-02, 7.20496947e-02, 5.45276755e-02,\n",
       "        3.74099086e-02, 2.61306058e-02, 1.70846314e-02, 1.09744568e-02,\n",
       "        6.90542511e-03, 4.24796305e-03, 2.31285352e-03, 1.47121341e-03,\n",
       "        7.68742143e-04, 4.37387771e-04, 2.65083498e-04, 1.39168836e-04,\n",
       "        7.95250493e-05, 5.30166995e-05, 6.62708744e-06, 1.32541749e-05,\n",
       "        0.00000000e+00, 6.62708744e-06]),\n",
       " array([-19.86802864, -19.11354939, -18.35907013, -17.60459087,\n",
       "        -16.85011162, -16.09563236, -15.34115311, -14.58667385,\n",
       "        -13.8321946 , -13.07771534, -12.32323608, -11.56875683,\n",
       "        -10.81427757, -10.05979832,  -9.30531906,  -8.55083981,\n",
       "         -7.79636055,  -7.04188129,  -6.28740204,  -5.53292278,\n",
       "         -4.77844353,  -4.02396427,  -3.26948502,  -2.51500576,\n",
       "         -1.7605265 ,  -1.00604725,  -0.25156799,   0.50291126,\n",
       "          1.25739052,   2.01186977,   2.76634903,   3.52082829,\n",
       "          4.27530754,   5.0297868 ,   5.78426605,   6.53874531,\n",
       "          7.29322456,   8.04770382,   8.80218307,   9.55666233,\n",
       "         10.31114159,  11.06562084,  11.8201001 ,  12.57457935,\n",
       "         13.32905861,  14.08353786,  14.83801712,  15.59249638,\n",
       "         16.34697563,  17.10145489,  17.85593414]),\n",
       " <BarContainer object of 50 artists>)"
      ]
     },
     "execution_count": 14,
     "metadata": {},
     "output_type": "execute_result"
    },
    {
     "data": {
      "image/png": "[encoded data removed]",
      "text/plain": [
       "<Figure size 2000x500 with 2 Axes>"
      ]
     },
     "metadata": {},
     "output_type": "display_data"
    }
   ],
   "source": [
    "# it is not a good idea to manually set the scale down factor for the weights and biases.\n",
    "# lets look into what we can do\n",
    "# torch.rand is a gaussian distribution with mean 0 and variance 1\n",
    "x = torch.randn(1000, 10) # 1000 examples, 10 dimensions\n",
    "w = torch.randn(10, 200) / 10 ** 0.5 # 10 dimensions(input) a.k.a fan-in, 200 hidden units\n",
    "y = x @ w # matrix multiplication\n",
    "print(x.mean(), x.std())\n",
    "print(y.mean(), y.std())\n",
    "# see how x has a mean of 0 and std of 1, and y has a mean of 0 and std of 10, y is blown out, we need to fix this\n",
    "plt.figure(figsize=(20, 5))\n",
    "plt.subplot(121)\n",
    "plt.hist(x.view(-1).tolist(), 50, density=True, color='r')\n",
    "plt.subplot(122)\n",
    "plt.hist(y.view(-1).tolist(), 50, density=True, color='b')\n",
    "\n",
    "# we can fix this by scaling down the weights, but how much to scale down? The answer is to scale down by the square root of the input size (fan-in)\n",
    "# read more about this here: https://arxiv.org/pdf/1502.01852.pdf\n",
    "# changes above, by the way this is implemented in pytorch, we can use the kaiming_normal_ function, where mode='fan_in' scales down by the square root of the input size, \n",
    "# and mode='fan_out' scales down by the square root of the output size\n",
    "# mode (str) – either 'fan_in' (default) or 'fan_out'. Choosing 'fan_in' preserves the magnitude of the variance of the weights in the forward pass. \n",
    "# Choosing 'fan_out' preserves the magnitudes (grad) in the backwards pass. Ultimately you either normailze the activations or the gradients."
   ]
  },
  {
   "cell_type": "code",
   "execution_count": 8,
   "metadata": {},
   "outputs": [
    {
     "name": "stdout",
     "output_type": "stream",
     "text": [
      "      0/200000: 3.3153\n",
      "  10000/200000: 2.1310\n",
      "  20000/200000: 2.1120\n",
      "  30000/200000: 2.3054\n",
      "  40000/200000: 2.0845\n",
      "  50000/200000: 1.8527\n",
      "  60000/200000: 1.6734\n",
      "  70000/200000: 2.2592\n",
      "  80000/200000: 1.9434\n",
      "  90000/200000: 1.9492\n",
      " 100000/200000: 2.1447\n",
      " 110000/200000: 1.6726\n",
      " 120000/200000: 1.6542\n",
      " 130000/200000: 2.3512\n",
      " 140000/200000: 2.2032\n",
      " 150000/200000: 2.0789\n",
      " 160000/200000: 2.0291\n",
      " 170000/200000: 2.2977\n",
      " 180000/200000: 1.7612\n",
      " 190000/200000: 2.1718\n"
     ]
    }
   ],
   "source": [
    "# Optimization\n",
    "max_steps = 200000\n",
    "batch_size = 32\n",
    "lossi = []\n",
    "\n",
    "for i in range(max_steps):\n",
    "\n",
    "    # minibatch construction\n",
    "    ix = torch.randint(0, Xtr.shape[0], (batch_size,), generator=g)\n",
    "    Xb, Yb = Xtr[ix], Ytr[ix] # minibatch\n",
    "\n",
    "    # forward pass\n",
    "    emb = C[Xb] # embedding lookup\n",
    "    embcat = emb.view(emb.shape[0], -1) # flatten the embedding\n",
    "    hpreact = embcat @ W1 + b1 # pre-activation\n",
    "    h = torch.tanh(hpreact) # non-linearity\n",
    "    logits = h @ W2 + b2 # logits\n",
    "    loss = F.cross_entropy(logits, Yb) # loss \n",
    "\n",
    "    # backward pass\n",
    "    for p in parameters:\n",
    "        p.grad = None\n",
    "    loss.backward()\n",
    "\n",
    "    # update\n",
    "    lr = 0.1 if i < 100000 else 0.01 # learning rate decay\n",
    "    for p in parameters:\n",
    "        p.data += -lr * p.grad.data\n",
    "\n",
    "    # track statistics\n",
    "    if i % 10000 == 0: # every 10000 steps\n",
    "        print(f'{i:7d}/{max_steps}: {loss.item():.4f}')\n",
    "    lossi.append(loss.log10().item())\n",
    "\n",
    "    #break # this is just for testing the logits for the first minibatch\n"
   ]
  },
  {
   "cell_type": "code",
   "execution_count": 40,
   "metadata": {},
   "outputs": [
    {
     "data": {
      "text/plain": [
       "(array([315., 245., 204., 174., 150., 118., 127., 113., 110., 106., 125.,\n",
       "         79., 116.,  82., 121., 105., 116.,  78., 108.,  97.,  92., 100.,\n",
       "         92.,  80.,  84.,  84.,  86.,  96.,  80.,  90.,  74.,  85.,  94.,\n",
       "        112.,  83., 106., 114., 114., 108.,  99.,  99., 143., 131., 148.,\n",
       "        146., 157., 155., 222., 285., 352.]),\n",
       " array([-9.99571502e-01, -9.59591606e-01, -9.19611709e-01, -8.79631813e-01,\n",
       "        -8.39651916e-01, -7.99672019e-01, -7.59692123e-01, -7.19712226e-01,\n",
       "        -6.79732330e-01, -6.39752433e-01, -5.99772537e-01, -5.59792640e-01,\n",
       "        -5.19812744e-01, -4.79832847e-01, -4.39852951e-01, -3.99873054e-01,\n",
       "        -3.59893157e-01, -3.19913261e-01, -2.79933364e-01, -2.39953468e-01,\n",
       "        -1.99973571e-01, -1.59993675e-01, -1.20013778e-01, -8.00338817e-02,\n",
       "        -4.00539851e-02, -7.40885735e-05,  3.99058080e-02,  7.98857045e-02,\n",
       "         1.19865601e-01,  1.59845498e-01,  1.99825394e-01,  2.39805291e-01,\n",
       "         2.79785187e-01,  3.19765084e-01,  3.59744980e-01,  3.99724877e-01,\n",
       "         4.39704773e-01,  4.79684670e-01,  5.19664567e-01,  5.59644463e-01,\n",
       "         5.99624360e-01,  6.39604256e-01,  6.79584153e-01,  7.19564049e-01,\n",
       "         7.59543946e-01,  7.99523842e-01,  8.39503739e-01,  8.79483635e-01,\n",
       "         9.19463532e-01,  9.59443429e-01,  9.99423325e-01]),\n",
       " <BarContainer object of 50 artists>)"
      ]
     },
     "execution_count": 40,
     "metadata": {},
     "output_type": "execute_result"
    },
    {
     "data": {
      "image/png": "[encoded data removed]",
      "text/plain": [
       "<Figure size 640x480 with 1 Axes>"
      ]
     },
     "metadata": {},
     "output_type": "display_data"
    }
   ],
   "source": [
    "# next problem that the network has is with the 'h', hidden states\n",
    "# purpose of tanh as we remember is to squash the values between -1 and 1, lets look at the histogram of the hidden states\n",
    "# h.shape # 32 is the batch size (examples), 200 is the hidden size\n",
    "# lets stretch the h to one large vector\n",
    "# h.view(-1).shape # 6400 is the batch size * hidden size\n",
    "plt.hist(h.view(-1).tolist(), 50)\n",
    "\n",
    "# observe how the values are squashed between -1 and 1\n",
    "\n",
    "# the biggest problem here is that more the values are in the flat region of the tanh, i.e. -1 and 1, the grad will be zero, \n",
    "# which means that the network will not learn anything or loss is not effected by those neurons. Ref: Autograd (1 - t**2)\n",
    "# also if the value is zero, the grad is just passed through, which means tanh is not doing anything.\n",
    "\n",
    "# how to solve this problem?\n",
    "# we need to bring the values of hpreact to be closer to zero, so that tanh is not in the flat region\n",
    "# to do so we multiply the hpreact with a small number, which is called scaling and same with bias (refer code)"
   ]
  },
  {
   "cell_type": "code",
   "execution_count": 41,
   "metadata": {},
   "outputs": [
    {
     "data": {
      "text/plain": [
       "<matplotlib.image.AxesImage at 0x160897ee0>"
      ]
     },
     "execution_count": 41,
     "metadata": {},
     "output_type": "execute_result"
    },
    {
     "data": {
      "image/png": "[encoded data removed]",
      "text/plain": [
       "<Figure size 2000x1000 with 1 Axes>"
      ]
     },
     "metadata": {},
     "output_type": "display_data"
    }
   ],
   "source": [
    "plt.figure(figsize=(20, 10))\n",
    "plt.imshow(h.abs() > 0.99, cmap='gray', interpolation='nearest')\n",
    "\n",
    "# what we see is 32 examples and 200 neurons\n",
    "# all the white ones are where the value is > 0.99, so h is in flat areas, meaning that the grad is zero for those neurons, tanh is not doing anything (gradients are destroyed)\n",
    "# what is important to note is that no column is all white, because in that case the we have dead neurons.\n",
    "\n",
    "# this happens with all activation functions, relu, sigmoid, etc.\n",
    "# some neurons get knocked off for ever and are dead, they are not learning anything\n",
    "\n",
    "# all black now :)"
   ]
  },
  {
   "cell_type": "code",
   "execution_count": 42,
   "metadata": {},
   "outputs": [
    {
     "data": {
      "text/plain": [
       "(array([  3.,   0.,   3.,   8.,   5.,   9.,   8.,  14.,  22.,  23.,  37.,\n",
       "         59.,  74.,  70., 113., 123., 157., 198., 196., 217., 247., 290.,\n",
       "        345., 381., 382., 349., 334., 354., 356., 280., 305., 253., 206.,\n",
       "        170., 172., 152., 114.,  86.,  61.,  54.,  40.,  43.,  23.,  20.,\n",
       "         17.,   7.,   5.,   8.,   5.,   2.]),\n",
       " array([-4.224051  , -4.05805959, -3.89206818, -3.72607677, -3.56008535,\n",
       "        -3.39409394, -3.22810253, -3.06211112, -2.89611971, -2.7301283 ,\n",
       "        -2.56413689, -2.39814548, -2.23215406, -2.06616265, -1.90017124,\n",
       "        -1.73417983, -1.56818842, -1.40219701, -1.2362056 , -1.07021419,\n",
       "        -0.90422277, -0.73823136, -0.57223995, -0.40624854, -0.24025713,\n",
       "        -0.07426572,  0.09172569,  0.2577171 ,  0.42370852,  0.58969993,\n",
       "         0.75569134,  0.92168275,  1.08767416,  1.25366557,  1.41965698,\n",
       "         1.58564839,  1.7516398 ,  1.91763122,  2.08362263,  2.24961404,\n",
       "         2.41560545,  2.58159686,  2.74758827,  2.91357968,  3.07957109,\n",
       "         3.24556251,  3.41155392,  3.57754533,  3.74353674,  3.90952815,\n",
       "         4.07551956]),\n",
       " <BarContainer object of 50 artists>)"
      ]
     },
     "execution_count": 42,
     "metadata": {},
     "output_type": "execute_result"
    },
    {
     "data": {
      "image/png": "[encoded data removed]",
      "text/plain": [
       "<Figure size 640x480 with 1 Axes>"
      ]
     },
     "metadata": {},
     "output_type": "display_data"
    }
   ],
   "source": [
    "# lets look at the pre-activation values\n",
    "plt.hist(hpreact.view(-1).tolist(), 50)\n",
    "\n",
    "# observe how the values are between -20 and 20, we bring them to -2 and 2 by scaling"
   ]
  },
  {
   "cell_type": "code",
   "execution_count": 18,
   "metadata": {},
   "outputs": [
    {
     "data": {
      "text/plain": [
       "tensor([ 0.0964,  0.1999, -0.0043, -0.0577,  0.0322,  0.1064,  0.1046, -0.1644,\n",
       "         0.0295,  0.0007,  0.0558, -0.2128,  0.1318,  0.0774, -0.1508, -0.0820,\n",
       "         0.0624,  0.1657, -0.1049,  0.0413, -0.0162, -0.1285, -0.1958,  0.1318,\n",
       "        -0.0192,  0.1833,  0.1426], grad_fn=<SelectBackward0>)"
      ]
     },
     "execution_count": 18,
     "metadata": {},
     "output_type": "execute_result"
    }
   ],
   "source": [
    "logits[0] # logits for the first minibatch are so random, ideally they should be equally distributed for all characters (27), this is why the loss is so high\n",
    "# step 1 will be to make b2 bias 0 at the initialization time\n",
    "# step 2 will be to initialize W2 with small values, scaled down. Dont set this to zero"
   ]
  },
  {
   "cell_type": "code",
   "execution_count": 49,
   "metadata": {},
   "outputs": [
    {
     "data": {
      "text/plain": [
       "(tensor([111.9069,  16.8355, -69.7057, -47.4059]),\n",
       " tensor([1.0000e+00, 5.1400e-42, 0.0000e+00, 0.0000e+00]),\n",
       " tensor(inf))"
      ]
     },
     "execution_count": 49,
     "metadata": {},
     "output_type": "execute_result"
    }
   ],
   "source": [
    "# 4 dimensional example for the below\n",
    "#logits = torch.tensor([0.0, 0.0, 0.0, 0.0])\n",
    "logits = torch.randn(4) * 100 # logits are super high, the loss will go crazy\n",
    "probs = F.softmax(logits, dim=0) \n",
    "loss = -probs[2].log()\n",
    "logits, probs, loss"
   ]
  },
  {
   "cell_type": "code",
   "execution_count": 44,
   "metadata": {},
   "outputs": [
    {
     "data": {
      "text/plain": [
       "tensor(3.2958)"
      ]
     },
     "execution_count": 44,
     "metadata": {},
     "output_type": "execute_result"
    }
   ],
   "source": [
    "# the loss 25 you see above at the initialization is really bad, what we would expect is that there is an equal probability of predicting any character, \n",
    "# so the loss should be, the network is very confidently wrong\n",
    "\n",
    "-torch.tensor(1/27).log()"
   ]
  },
  {
   "cell_type": "code",
   "execution_count": 9,
   "metadata": {},
   "outputs": [
    {
     "data": {
      "text/plain": [
       "[<matplotlib.lines.Line2D at 0x16c731540>]"
      ]
     },
     "execution_count": 9,
     "metadata": {},
     "output_type": "execute_result"
    },
    {
     "data": {
      "image/png": "[encoded data removed]",
      "text/plain": [
       "<Figure size 640x480 with 1 Axes>"
      ]
     },
     "metadata": {},
     "output_type": "display_data"
    }
   ],
   "source": [
    "plt.plot(lossi)\n",
    "\n",
    "# we squashed down the hockey stick, we spend less time or iterations to sqash down the weights rather focus more cycles on optimizing the weights"
   ]
  },
  {
   "cell_type": "code",
   "execution_count": 10,
   "metadata": {},
   "outputs": [
    {
     "name": "stdout",
     "output_type": "stream",
     "text": [
      "train 1.9943053722381592\n",
      "val 2.0542640686035156\n",
      "test 2.0619266033172607\n"
     ]
    }
   ],
   "source": [
    "@torch.no_grad() # no need to track the gradients here\n",
    "def split_loss(split):\n",
    "    x, y = {'train': (Xtr, Ytr), 'val': (Xdev, Ydev), 'test': (Xte, Yte)} [split]\n",
    "    emb = C[x]\n",
    "    embcat = emb.view(emb.shape[0], -1)\n",
    "    h = torch.tanh(embcat @ W1 + b1)\n",
    "    logits = h @ W2 + b2\n",
    "    loss = F.cross_entropy(logits, y)\n",
    "\n",
    "    print(split, loss.item())\n",
    "\n",
    "split_loss('train')\n",
    "split_loss('val')\n",
    "split_loss('test')"
   ]
  },
  {
   "cell_type": "code",
   "execution_count": 11,
   "metadata": {},
   "outputs": [
    {
     "name": "stdout",
     "output_type": "stream",
     "text": [
      "desibi.\n",
      "ruchim.\n",
      "lil.\n",
      "nson.\n",
      "mi.\n",
      "d.\n",
      "tomin.\n",
      "l.\n",
      "kylin.\n",
      "m.\n",
      "rhetzid.\n",
      "jhriy.\n",
      ".\n",
      "s.\n",
      "nish.\n",
      "diseigh.\n",
      ".\n",
      "mikh.\n",
      "eimo.\n",
      ".\n"
     ]
    }
   ],
   "source": [
    "# sample from the model\n",
    "g = torch.Generator().manual_seed(2147483647 + 10) # for reproducibility\n",
    "\n",
    "for _ in range(20):\n",
    "    out = []\n",
    "    context = [0] * block_size\n",
    "    while True:\n",
    "        emb = C[torch.tensor([context])] # embedding lookup (1, block_size, n_emb)\n",
    "        embcat = emb.view(1, -1)\n",
    "        h = torch.tanh(embcat @ W1 + b1)\n",
    "        logits = h @ W2 + b2\n",
    "        probs = F.softmax(logits, dim=1)\n",
    "        ix = torch.multinomial(probs, num_samples=1, generator=g).item()\n",
    "        context = context[1:] + [ix]\n",
    "        out.append(ix)\n",
    "        if ix == 0: # end of word\n",
    "            break\n",
    "\n",
    "    print(''.join([itos[i] for i in out]))\n",
    "\n",
    "\n"
   ]
  },
  {
   "cell_type": "code",
   "execution_count": null,
   "metadata": {},
   "outputs": [],
   "source": [
    "# life will not be easy with large networks, its not very forgiving like above\n",
    "# there should be more principled way to do this, basically setting the scaled values\n",
    "# refer above for the same"
   ]
  },
  {
   "cell_type": "code",
   "execution_count": null,
   "metadata": {},
   "outputs": [],
   "source": [
    "# perfect time to do batch normalization, https://arxiv.org/pdf/1502.03167.pdf"
   ]
  }
 ],
 "metadata": {
  "kernelspec": {
   "display_name": "py310",
   "language": "python",
   "name": "python3"
  },
  "language_info": {
   "codemirror_mode": {
    "name": "ipython",
    "version": 3
   },
   "file_extension": ".py",
   "mimetype": "text/x-python",
   "name": "python",
   "nbconvert_exporter": "python",
   "pygments_lexer": "ipython3",
   "version": "3.10.11"
  }
 },
 "nbformat": 4,
 "nbformat_minor": 2
}
