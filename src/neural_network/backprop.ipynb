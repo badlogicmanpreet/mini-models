{
 "cells": [
  {
   "cell_type": "code",
   "execution_count": 1,
   "metadata": {},
   "outputs": [
    {
     "name": "stderr",
     "output_type": "stream",
     "text": [
      "UsageError: Line magic function `%` not found.\n"
     ]
    }
   ],
   "source": [
    "import torch\n",
    "import torch.nn.functional as F\n",
    "import matplotlib.pyplot as plt\n",
    "% matplotlib inline"
   ]
  },
  {
   "cell_type": "code",
   "execution_count": 2,
   "metadata": {},
   "outputs": [],
   "source": [
    "g = torch.Generator().manual_seed(42) # reproducibility"
   ]
  },
  {
   "cell_type": "code",
   "execution_count": 3,
   "metadata": {},
   "outputs": [],
   "source": [
    "# building the dataset\n",
    "words = open('names.txt', 'r').read().splitlines()\n",
    "\n",
    "chars = sorted(list(set(''.join(words))))\n",
    "stoi = {ch: i for i, ch in enumerate(chars)}\n",
    "stoi['.'] = 0\n",
    "itos = {i: ch for ch, i in stoi.items()}\n",
    "vocab_size = len(stoi)\n",
    "\n",
    "block_size = 3  # context size: how many characters we consider to predict the next character\n",
    "\n",
    "def build_dataset(words):\n",
    "    X, Y = [], []\n",
    "\n",
    "    for w in words:\n",
    "        context = [0] * block_size\n",
    "        for ch in w + '.':\n",
    "            ix = stoi[ch]\n",
    "            X.append(context)\n",
    "            Y.append(ix)\n",
    "            context = context[1:] + [ix] # update context with the next character\n",
    "\n",
    "    X = torch.tensor(X)\n",
    "    Y = torch.tensor(Y)\n",
    "    return X, Y\n",
    "\n",
    "import random\n",
    "random.seed(42)\n",
    "random.shuffle(words)\n",
    "n1 = int(len(words) * 0.8)\n",
    "n2 = int(len(words) * 0.9)\n",
    "\n",
    "Xtr, Ytr = build_dataset(words[:n1]) # training set\n",
    "Xdev, Ydev = build_dataset(words[n1:n2]) # validation set\n",
    "Xte, Yte = build_dataset(words[n2:]) # test set"
   ]
  },
  {
   "cell_type": "code",
   "execution_count": 4,
   "metadata": {},
   "outputs": [],
   "source": [
    "# utility function to compare manual gradients with pytorch gradients\n",
    "def cmp(s, dt, t):\n",
    "    ex = torch.all(dt == t.grad).item() # exact match\n",
    "    app = torch.allclose(dt, t.grad) # approximate match\n",
    "    maxdiff = (dt - t.grad).abs().max().item() # max difference\n",
    "    print(f'{s:15s} | exact: {str(ex):5s} | approximate: {str(app):5s} | maxdiff={maxdiff}')"
   ]
  },
  {
   "cell_type": "code",
   "execution_count": 5,
   "metadata": {},
   "outputs": [
    {
     "name": "stdout",
     "output_type": "stream",
     "text": [
      "Number of parameters: 4137\n"
     ]
    }
   ],
   "source": [
    "# initialize the parameters\n",
    "n_emb = 10 # embedding size\n",
    "n_hidden = 64 # hidden layer size\n",
    "\n",
    "g = torch.Generator().manual_seed(2147483647) # for reproducibility\n",
    "C = torch.randn((vocab_size, n_emb), generator=g) # embedding matrix\n",
    "W1 = torch.randn((n_emb * block_size, n_hidden), generator=g) * (5/3) / ((n_emb * block_size) ** 0.5) # first layer initialized with small values, scaled down\n",
    "b1 = torch.randn((n_hidden), generator=g) * 0.1 # bias for the first layer\n",
    "W2 = torch.randn((n_hidden, vocab_size), generator=g) * 0.1 # second layer, initialized with small values, scaled down\n",
    "b2 = torch.randn((vocab_size), generator=g) * 0.1 # bias for the second layer, initialized to zero at the beginning\n",
    "\n",
    "bngain = torch.randn((1, n_hidden)) * 0.1 + 1.0 # batch normalization gain\n",
    "bnbias = torch.randn((1, n_hidden)) * 0.1 # batch normalization bias\n",
    "\n",
    "parameters = [C, W1, b1, W2, b2, bngain, bnbias]\n",
    "print('Number of parameters:', sum(p.numel() for p in parameters))\n",
    "\n",
    "for p in parameters:\n",
    "    p.requires_grad = True"
   ]
  },
  {
   "cell_type": "code",
   "execution_count": 6,
   "metadata": {},
   "outputs": [],
   "source": [
    "batch_size = 32\n",
    "n = batch_size # for convenience\n",
    "# construct a mini-batch\n",
    "ix = torch.randint(0, Xtr.shape[0], (batch_size,), generator=g) # random indices\n",
    "Xb, Yb = Xtr[ix], Ytr[ix] # the mini-batch"
   ]
  },
  {
   "cell_type": "code",
   "execution_count": 8,
   "metadata": {},
   "outputs": [
    {
     "data": {
      "text/plain": [
       "tensor(3.4257, grad_fn=<NegBackward0>)"
      ]
     },
     "execution_count": 8,
     "metadata": {},
     "output_type": "execute_result"
    }
   ],
   "source": [
    "# forward pass, chunkated into smaller steps so its easy to perform backward pass\n",
    "emb = C[Xb] # embedding \n",
    "embcat = emb.view(emb.shape[0], -1) # concatenate the embeddings\n",
    "# Linear layer\n",
    "hprebn = embcat @ W1 + b1 # linear transformation\n",
    "\n",
    "# Batch normalization\n",
    "bnmeani = 1/n*hprebn.sum(0, keepdim=True) # mean\n",
    "bndiff = hprebn - bnmeani # difference\n",
    "bndiff2 = bndiff ** 2 # squared difference\n",
    "bnvar = 1/(n-1) * (bndiff2).sum(0, keepdim=True) # variance, bessels correction, n-1 and not n\n",
    "bnvar_inv = (bnvar + 1e-5)**-0.5 # inverse square root, with epsilon for numerical stability\n",
    "bnraw = bndiff * bnvar_inv # normalized input\n",
    "hpreact = bngain * bnraw + bnbias # scale and shift\n",
    "\n",
    "# Non-linearity\n",
    "h = torch.tanh(hpreact) # non-linearity\n",
    "\n",
    "# Second linear layer\n",
    "logits = h @ W2 + b2 # logits\n",
    "\n",
    "# Loss\n",
    "# same as F.cross_entropy(logits, Yb) # cross-entropy loss\n",
    "logit_maxes = logits.max(1, keepdim=True).values # max value of each row\n",
    "norm_logits = logits - logit_maxes # subtract the max value for numerical stability\n",
    "counts = norm_logits.exp() # exponentiate\n",
    "counts_sum = counts.sum(1, keepdim=True) # sum of exponentiated values\n",
    "counts_sum_inv = counts_sum ** -1 # inverse\n",
    "probs = counts * counts_sum_inv # probabilities\n",
    "logprobs = probs.log() # log-probabilities\n",
    "loss = -logprobs[range(n), Yb].mean() # cross-entropy loss\n",
    "\n",
    "# backward pass\n",
    "for p in parameters:\n",
    "    p.grad = None\n",
    "for t in [logprobs, probs, counts, counts_sum, counts_sum_inv, norm_logits, logit_maxes, logits, h, hpreact, bnraw, bnvar_inv, bnvar, bndiff2, bndiff, bnmeani, hprebn, embcat, emb]:\n",
    "    t.retain_grad() # we need to retain the gradients for these tensors\n",
    "loss.backward()\n",
    "loss"
   ]
  },
  {
   "cell_type": "code",
   "execution_count": null,
   "metadata": {},
   "outputs": [],
   "source": [
    "# manual computation of gradients\n",
    "############################ logprobs ############################\n",
    "logprobs.shape # (32, 27)\n",
    "Yb # index of the correct character\n",
    "logprobs[range(n), Yb] # indices of the correct characters\n",
    "logprobs[range(n), Yb].mean() # loss\n",
    "\n",
    "# loss = -(a + b + c)/3\n",
    "# loss = -1/3a - 1/3b - 1/3c\n",
    "# dloss/da = -1/3\n",
    "# dloss/db = -1/3\n",
    "# dloss/dc = -1/3\n",
    "dloss = -1/n # gradient of the loss with respect to the average of the log-probabilities\n",
    "# remember that the derivative of loss w.r.t to numbers which do not get pluked out of large array doesnt matter, becuase they do not contribute to the loss\n",
    "\n",
    "############################ probs ############################\n",
    "# dloss/dprobs = dlogprobs * dprobs # chain rule\n",
    "# dprobs = 1/probs\n",
    "\n",
    "############################ counts_sum_inv & counts ############################\n",
    "# dloss/dcounts_sum_inv = dprobs * dcounts_sum_inv\n",
    "# dcounts_sum_inv = counts\n",
    "counts.shape, counts_sum_inv.shape # (32, 27), (32, 1), broadcasting will be used\n",
    "# c = a * b, but with tensors\n",
    "# a[3*3], b[3*1] -->\n",
    "# a11 * b11, a12 * b11, a13 * b11\n",
    "# a21 * b11, a22 * b11, a23 * b11\n",
    "# a31 * b11, a32 * b11, a33 * b11\n",
    "# c[3*3]\n",
    "# two operations happen here, replication during broadcasting and then multiplication\n",
    "# remember that b11 is replicated 3 times, and then multiplied with a11, a12, a13, so we take sum the derivatives of c w.r.t to a11, a12, a13\n",
    "\n",
    "# dloss/dcounts = dprobs * dcounts\n",
    "# dcounts = counts_sum_inv\n",
    "# remeber not to cmp dcounts, since this is just the first contribution of counts, there will be another contribution\n",
    "\n",
    "############################ counts_sum ############################\n",
    "# dloss/dcounts_sum = dcounts_sum_inv * dcounts_sum\n",
    "# dcounts_sum = -1/counts_sum^2\n",
    "\n",
    "############################ counts ############################\n",
    "# dloss/dcounts = dcounts_sum * dcounts\n",
    "# dcounts = \n",
    "counts.shape, counts_sum.shape # (32, 27), (32, 1), broadcasting will be used\n",
    "# a11 a12 a13 ---> b1 (= a11 + a12 + a13)\n",
    "# a21 a22 a23 ---> b2 (= a21 + a22 + a23)\n",
    "# a31 a32 a33 ---> b3 (= a31 + a32 + a33)\n",
    "\n",
    "############################ norm_logits & logits ############################\n",
    "# dloss/dnorm_logits = dcounts * dnorm_logits\n",
    "# dnorm_logits = 1\n",
    "\n",
    "############################ norm_logits ############################\n",
    "norm_logits.shape, logits.shape, logit_maxes.shape # (32, 27), (32, 1), broadcasting will be used\n",
    "\n",
    "# c11 c12 c13 ---> a11 a12 a13    b1\n",
    "# c21 c22 c23 ---> a21 a22 a23 -  b2\n",
    "# c31 c32 c33 ---> a31 a32 a33    b3\n",
    "\n",
    "# c32 = a32 - b3\n",
    "# derivatives of c w.r.t a will be 1's and w.r.t b will be -1's. Therfore, c flows as it is, and a flows as it is, but b flows with a negative sign (sum for )\n",
    "\n",
    "############################ logits ############################\n",
    "# dlogits += F.one_hot(logits.max(1).indices, num_classes=logits.shape[1]) * dlogit_maxes # gradient of the loss with respect to the logitsx\n",
    "\n",
    "# see how the max of the logits is displayed\n",
    "# plt.imshow(F.one_hot(logits.max(1).indices, num_classes=logits.shape[1]))\n"
   ]
  },
  {
   "cell_type": "code",
   "execution_count": 16,
   "metadata": {},
   "outputs": [
    {
     "data": {
      "text/plain": [
       "<matplotlib.image.AxesImage at 0x17905a920>"
      ]
     },
     "execution_count": 16,
     "metadata": {},
     "output_type": "execute_result"
    },
    {
     "data": {
      "image/png": "[encoded data removed]",
      "text/plain": [
       "<Figure size 640x480 with 1 Axes>"
      ]
     },
     "metadata": {},
     "output_type": "display_data"
    }
   ],
   "source": [
    "plt.imshow(F.one_hot(logits.max(1).indices, num_classes=logits.shape[1]))"
   ]
  },
  {
   "cell_type": "code",
   "execution_count": 15,
   "metadata": {},
   "outputs": [
    {
     "name": "stdout",
     "output_type": "stream",
     "text": [
      "logprobs        | exact: True  | approximate: True  | maxdiff=0.0\n",
      "probs           | exact: True  | approximate: True  | maxdiff=0.0\n",
      "counts_sum_inv  | exact: True  | approximate: True  | maxdiff=0.0\n",
      "counts_sum      | exact: True  | approximate: True  | maxdiff=0.0\n",
      "counts          | exact: True  | approximate: True  | maxdiff=0.0\n",
      "norm_logits     | exact: True  | approximate: True  | maxdiff=0.0\n",
      "logit_maxes     | exact: True  | approximate: True  | maxdiff=0.0\n",
      "dlogits         | exact: True  | approximate: True  | maxdiff=0.0\n"
     ]
    }
   ],
   "source": [
    "# Lets calculate the gradients manually\n",
    "dlogprobs = torch.zeros_like(logprobs)\n",
    "dlogprobs[range(n), Yb] = -1.0/n # gradient of the loss with respect to the log-probabilities\n",
    "\n",
    "dprobs = (1.0/probs) * dlogprobs # chain rule\n",
    "\n",
    "dcounts_sum_inv = (counts * dprobs).sum(1, keepdim=True) # sum of the gradients of the loss with respect to the sum of the exponentiated values\n",
    "dcounts = counts_sum_inv * dprobs # gradient of the loss with respect to the exponentiated values, broadcasting will be used here\n",
    "# remeber not to cmp dcounts, since this is just the first contribution of counts, there will be another contribution\n",
    "\n",
    "dcounts_sum = (-counts_sum**-2) * dcounts_sum_inv # gradient of the loss with respect to the sum of the exponentiated values\n",
    "dcounts += torch.ones_like(counts) * dcounts_sum\n",
    "\n",
    "dnorm_logits = torch.exp(norm_logits) * dcounts # gradient of the loss with respect to the normalized logits\n",
    "\n",
    "# derivatives of c w.r.t a will be 1's and w.r.t b will be -1's. Therfore, c flows as it is, and a flows as it is, but b flows with a negative sign (sum for )\n",
    "dlogits = dnorm_logits.clone() # gradient of the loss with respect to the logits\n",
    "dlogit_maxes = (-dnorm_logits).sum(1, keepdim=True) # gradient of the loss with respect to the max values\n",
    "\n",
    "dlogits += F.one_hot(logits.max(1).indices, num_classes=logits.shape[1]) * dlogit_maxes # gradient of the loss with respect to the logitsx\n",
    "\n",
    "cmp('logprobs', dlogprobs, logprobs)\n",
    "cmp('probs', dprobs, probs)\n",
    "cmp('counts_sum_inv', dcounts_sum_inv, counts_sum_inv)\n",
    "cmp('counts_sum', dcounts_sum, counts_sum)\n",
    "cmp('counts', dcounts, counts)\n",
    "cmp('norm_logits', dnorm_logits, norm_logits)\n",
    "cmp('logit_maxes', dlogit_maxes, logit_maxes)\n",
    "cmp('dlogits', dlogits, logits)"
   ]
  }
 ],
 "metadata": {
  "kernelspec": {
   "display_name": "py310",
   "language": "python",
   "name": "python3"
  },
  "language_info": {
   "codemirror_mode": {
    "name": "ipython",
    "version": 3
   },
   "file_extension": ".py",
   "mimetype": "text/x-python",
   "name": "python",
   "nbconvert_exporter": "python",
   "pygments_lexer": "ipython3",
   "version": "3.10.11"
  }
 },
 "nbformat": 4,
 "nbformat_minor": 2
}
